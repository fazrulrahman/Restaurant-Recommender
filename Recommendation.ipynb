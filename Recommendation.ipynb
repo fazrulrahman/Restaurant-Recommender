{
 "cells": [
  {
   "cell_type": "code",
   "execution_count": 3,
   "metadata": {},
   "outputs": [],
   "source": [
    "# loading required libraries\n",
    "import pandas as pd\n",
    "import numpy as np\n",
    "import matplotlib.pyplot as plt\n",
    "import warnings\n",
    "warnings.filterwarnings('ignore')"
   ]
  },
  {
   "cell_type": "code",
   "execution_count": null,
   "metadata": {},
   "outputs": [],
   "source": [
    "cuisine = raw_input(\"What do you like to Eat(Cuisine Type):\")\n",
    "budget = raw_input(\"What's your bugdet for one person:\")\n",
    "location = raw_input(\"Preferred Location:\")\n",
    "additional = raw_input(\"Any other comments:\")"
   ]
  },
  {
   "cell_type": "code",
   "execution_count": 37,
   "metadata": {},
   "outputs": [],
   "source": [
    "budget = int(budget)"
   ]
  },
  {
   "cell_type": "markdown",
   "metadata": {},
   "source": [
    "### Preprocessing and normalization"
   ]
  },
  {
   "cell_type": "code",
   "execution_count": 38,
   "metadata": {},
   "outputs": [],
   "source": [
    "reviews = pd.read_csv(\"Data/RestoInfo - Recommendation.csv\")"
   ]
  },
  {
   "cell_type": "code",
   "execution_count": 39,
   "metadata": {},
   "outputs": [],
   "source": [
    "# Restaurant Type\n",
    "temp_rest_type = reviews[['name','listed_in(type)','listed_in(city)','rest_type']]\n",
    "temp_rest_type['rest_type'] = temp_rest_type['rest_type'].str.split(',').tolist()\n",
    "temp_rest_type['rest_type'] = temp_rest_type['rest_type'].fillna('0')\n",
    "\n",
    "temp_rest_type['key'] = temp_rest_type['name'] + temp_rest_type['listed_in(type)'] + temp_rest_type['listed_in(city)']\n",
    "temp_rest_type1 = temp_rest_type[['key','rest_type']]\n",
    "\n",
    "rest_type = pd.DataFrame([[x] + [z] for x, y in temp_rest_type1.values for z in y],columns=temp_rest_type1.columns)\n",
    "\n",
    "rest_type = rest_type.merge(temp_rest_type[['key','name','listed_in(type)','listed_in(city)']],how = 'left',on = 'key')\n",
    "rest_type = rest_type[['key','name','listed_in(type)','listed_in(city)','rest_type']]"
   ]
  },
  {
   "cell_type": "code",
   "execution_count": 40,
   "metadata": {},
   "outputs": [],
   "source": [
    "# Liked Dishes\n",
    "temp_dish_liked = reviews[['name','listed_in(type)','listed_in(city)','dish_liked']]\n",
    "temp_dish_liked['dish_liked'] = temp_dish_liked['dish_liked'].str.split(',').tolist()\n",
    "temp_dish_liked['dish_liked'] = temp_dish_liked['dish_liked'].fillna('0')\n",
    "\n",
    "temp_dish_liked['key'] = temp_dish_liked['name'] + temp_dish_liked['listed_in(type)'] + temp_dish_liked['listed_in(city)']\n",
    "temp_dish_liked1 = temp_dish_liked[['key','dish_liked']]\n",
    "\n",
    "dish_liked = pd.DataFrame([[x] + [z] for x, y in temp_dish_liked1.values for z in y],columns=temp_dish_liked1.columns)\n",
    "\n",
    "dish_liked = dish_liked.merge(temp_dish_liked[['key','name','listed_in(type)','listed_in(city)']],how = 'left',on = 'key')\n",
    "dish_liked = dish_liked[['key','name','listed_in(type)','listed_in(city)','dish_liked']]\n",
    "dish_liked['dish_liked'] = pd.DataFrame([a.strip() for a in dish_liked['dish_liked']])"
   ]
  },
  {
   "cell_type": "code",
   "execution_count": 41,
   "metadata": {},
   "outputs": [],
   "source": [
    "# cuisines\n",
    "temp_cuisines = reviews[['name','listed_in(type)','listed_in(city)','cuisines']]\n",
    "temp_cuisines['cuisines'] = temp_cuisines['cuisines'].str.split(',').tolist()\n",
    "temp_cuisines['cuisines'] = temp_cuisines['cuisines'].fillna('0')\n",
    "\n",
    "temp_cuisines['key'] = temp_cuisines['name'] + temp_cuisines['listed_in(type)'] + temp_cuisines['listed_in(city)']\n",
    "temp_cuisines1 = temp_cuisines[['key','cuisines']]\n",
    "\n",
    "cuisines = pd.DataFrame([[x] + [z] for x, y in temp_cuisines1.values for z in y],columns=temp_cuisines1.columns)\n",
    "\n",
    "cuisines = cuisines.merge(temp_cuisines[['key','name','listed_in(type)','listed_in(city)']],how = 'left',on = 'key')\n",
    "cuisines = cuisines[['key','name','listed_in(type)','listed_in(city)','cuisines']]"
   ]
  },
  {
   "cell_type": "code",
   "execution_count": 42,
   "metadata": {},
   "outputs": [],
   "source": [
    "# reviews_list\n",
    "temp_reviews_list = reviews[['name','listed_in(type)','listed_in(city)','reviews_list']]\n",
    "temp_reviews_list['reviews_list'] = temp_reviews_list['reviews_list'].str.split(',').tolist()\n",
    "temp_reviews_list['reviews_list'] = temp_reviews_list['reviews_list'].fillna('0')\n",
    "\n",
    "temp_reviews_list['key'] = temp_reviews_list['name'] + temp_reviews_list['listed_in(type)'] + temp_reviews_list['listed_in(city)']\n",
    "temp_reviews_list1 = temp_reviews_list[['key','reviews_list']]\n",
    "\n",
    "reviews_list = pd.DataFrame([[x] + [z] for x, y in temp_reviews_list1.values for z in y],columns=temp_reviews_list1.columns)\n",
    "\n",
    "reviews_list = reviews_list.merge(temp_reviews_list[['key','name','listed_in(type)','listed_in(city)']],how = 'left',on = 'key')\n",
    "reviews_list = reviews_list[['key','name','listed_in(type)','listed_in(city)','reviews_list']]"
   ]
  },
  {
   "cell_type": "code",
   "execution_count": 43,
   "metadata": {},
   "outputs": [],
   "source": [
    "# menu_item\n",
    "temp_menu_item = reviews[['name','listed_in(type)','listed_in(city)','menu_item']]\n",
    "temp_menu_item['menu_item'] = temp_menu_item['menu_item'].apply(lambda x: x.replace('[','').replace(']',''))\n",
    "temp_menu_item['menu_item'] = temp_menu_item['menu_item'].apply(lambda x: x.replace(\"'\",\"\"))\n",
    "temp_menu_item['menu_item'] = pd.DataFrame([a.strip() for a in temp_menu_item['menu_item']])\n",
    "temp_menu_item['menu_item'] = temp_menu_item['menu_item'].str.split(',').tolist()\n",
    "temp_menu_item['menu_item'] = temp_menu_item['menu_item'].fillna('0')\n",
    "\n",
    "temp_menu_item['key'] = temp_menu_item['name'] + temp_menu_item['listed_in(type)'] + temp_menu_item['listed_in(city)']\n",
    "temp_menu_item1 = temp_menu_item[['key','menu_item']]\n",
    "\n",
    "menu_item = pd.DataFrame([[x] + [z] for x, y in temp_menu_item1.values for z in y],columns=temp_menu_item1.columns)\n",
    "\n",
    "menu_item = menu_item.merge(temp_menu_item[['key','name','listed_in(type)','listed_in(city)']],how = 'left',on = 'key')\n",
    "menu_item = menu_item[['key','name','listed_in(type)','listed_in(city)','menu_item']]\n",
    "menu_item['menu_item'] = pd.DataFrame([a.strip() for a in menu_item['menu_item']])"
   ]
  },
  {
   "cell_type": "code",
   "execution_count": 44,
   "metadata": {},
   "outputs": [],
   "source": [
    "reviews = reviews[['name','online_order','book_table','rate','votes','location','approx_cost(for two people)',\n",
    "                  'listed_in(type)','listed_in(city)']]"
   ]
  },
  {
   "cell_type": "markdown",
   "metadata": {},
   "source": [
    "## To calculate score for all restaurant based on user input"
   ]
  },
  {
   "cell_type": "markdown",
   "metadata": {},
   "source": [
    "### Location\n",
    "\n",
    "We are going to score based on the following criteria\n",
    "\n",
    "1. If the store is present in the preferred location - Score 1\n",
    "2. If the store is not present in the preferred location, but in top 1 location, Score 0.75\n",
    "3. If the store is not present in the preferred location, but in top 2 location, Score 0.50\n",
    "\n",
    "These weights are random, can be modified later based on model performance"
   ]
  },
  {
   "cell_type": "code",
   "execution_count": 45,
   "metadata": {},
   "outputs": [],
   "source": [
    "rest_with_ratings = reviews[~reviews['rate'].isna()]\n",
    "rest_with_ratings['rate'] = rest_with_ratings['rate'].apply(lambda x: x.replace(\"/5\",\"\"))\n",
    "rest_with_ratings = rest_with_ratings[rest_with_ratings['rate'] != 'NEW']\n",
    "rest_with_ratings = rest_with_ratings[rest_with_ratings['rate'] != '-']\n",
    "rest_with_ratings['rate'] = pd.DataFrame([a.strip() for a in rest_with_ratings['rate']])\n",
    "rest_with_ratings['rate'] = pd.DataFrame([float(a) for a in rest_with_ratings['rate']])\n",
    "rest_with_ratings['votes'] = pd.DataFrame([float(a) for a in rest_with_ratings['votes']])\n",
    "\n",
    "rest_with_ratings['rate x vote'] = rest_with_ratings['rate'] * rest_with_ratings['votes']\n",
    "\n",
    "location_rating = rest_with_ratings.groupby('listed_in(city)').agg({'rate x vote':'sum','votes':'sum'}).reset_index()\n",
    "location_rating['weighted_rate'] = location_rating['rate x vote'] / location_rating['votes']\n",
    "location_rating = location_rating.sort_values(by = 'weighted_rate', ascending = False)"
   ]
  },
  {
   "cell_type": "code",
   "execution_count": 46,
   "metadata": {},
   "outputs": [],
   "source": [
    "loc_wise_rest_count = rest_with_ratings.groupby('listed_in(city)').agg({'name':'count'}).reset_index()\n",
    "location_rating = location_rating.merge(loc_wise_rest_count, how = 'left', on= 'listed_in(city)')\n",
    "location_rating.rename(columns = {'name':'Num of stores'}, inplace = True)\n",
    "location_rating['Rank'] = location_rating['weighted_rate'].rank(ascending = False)"
   ]
  },
  {
   "cell_type": "code",
   "execution_count": 47,
   "metadata": {},
   "outputs": [],
   "source": [
    "rank_score_df =pd.DataFrame({'Rank': [1.0,2.0,3.0],\n",
    "                              'score': [0.75,0.50,0.25]})"
   ]
  },
  {
   "cell_type": "code",
   "execution_count": 48,
   "metadata": {},
   "outputs": [],
   "source": [
    "location_rating = location_rating.merge(rank_score_df, how = 'left', on = 'Rank')\n",
    "location_rating.loc[location_rating['score'].isna(), 'score'] = 0 "
   ]
  },
  {
   "cell_type": "code",
   "execution_count": 49,
   "metadata": {},
   "outputs": [],
   "source": [
    "reviews['location_score'] = reviews['listed_in(city)'].apply(lambda x: 1 if x == location else -99)"
   ]
  },
  {
   "cell_type": "code",
   "execution_count": 50,
   "metadata": {},
   "outputs": [],
   "source": [
    "reviews = reviews.merge(location_rating[['score','listed_in(city)']], how = 'left', on = 'listed_in(city)')\n",
    "\n",
    "reviews.loc[(reviews['location_score'] != 1) , 'location_score'] = reviews[reviews['location_score'] != 100]['score']\n",
    "reviews = reviews.drop(columns = ['score'])"
   ]
  },
  {
   "cell_type": "markdown",
   "metadata": {},
   "source": [
    "### Cuisine\n",
    "\n",
    "Doing the same for cuisine"
   ]
  },
  {
   "cell_type": "code",
   "execution_count": 51,
   "metadata": {},
   "outputs": [],
   "source": [
    "# Cuisine\n",
    "rest_with_ratings['key'] = rest_with_ratings['name'] + rest_with_ratings['listed_in(type)'] + rest_with_ratings['listed_in(city)']\n",
    "\n",
    "cuisine_rating_base_data = rest_with_ratings.merge(cuisines[['key','cuisines']],how = 'inner',on = 'key')\n",
    "cuisine_rating = cuisine_rating_base_data.groupby('cuisines').agg({'rate x vote':'sum','votes':'sum'}).reset_index()\n",
    "cuisine_rating['weighted_rate'] = cuisine_rating['rate x vote'] / cuisine_rating['votes']\n",
    "cuisine_rating = cuisine_rating.sort_values(by = 'weighted_rate', ascending = False)"
   ]
  },
  {
   "cell_type": "code",
   "execution_count": 52,
   "metadata": {},
   "outputs": [],
   "source": [
    "# Number of stores offerig the cuisine\n",
    "cuisine_wise_store_count = cuisine_rating_base_data.groupby('cuisines').agg({'name':'count'}).reset_index()\n",
    "cuisine_rating = cuisine_rating.merge(cuisine_wise_store_count, how = 'left', on = ['cuisines'])\n",
    "cuisine_rating = cuisine_rating.sort_values(by = 'name', ascending = False)\n",
    "\n",
    "cuisine_rating['Rank'] = cuisine_rating['weighted_rate'].rank(ascending = False)"
   ]
  },
  {
   "cell_type": "code",
   "execution_count": 53,
   "metadata": {
    "scrolled": true
   },
   "outputs": [],
   "source": [
    "cuisines = cuisines.merge(cuisine_rating[['cuisines','Rank']], how = 'left', on = 'cuisines')"
   ]
  },
  {
   "cell_type": "code",
   "execution_count": 54,
   "metadata": {},
   "outputs": [],
   "source": [
    "cuisine_rating = cuisine_rating.merge(rank_score_df, how = 'left', on = 'Rank')\n",
    "cuisine_rating.loc[cuisine_rating['score'].isna(), 'score'] = 0 "
   ]
  },
  {
   "cell_type": "code",
   "execution_count": 55,
   "metadata": {
    "scrolled": true
   },
   "outputs": [],
   "source": [
    "cuisine_rating.loc[(cuisine_rating['cuisines'] == cuisine) , 'score'] = 1"
   ]
  },
  {
   "cell_type": "code",
   "execution_count": 56,
   "metadata": {
    "scrolled": true
   },
   "outputs": [],
   "source": [
    "cuisines = cuisines.merge(cuisine_rating[['cuisines','score']],on = 'cuisines', how = 'left')"
   ]
  },
  {
   "cell_type": "code",
   "execution_count": 57,
   "metadata": {},
   "outputs": [],
   "source": [
    "cuisines.rename(columns = {'score':'cuisine_score'}, inplace = True)"
   ]
  },
  {
   "cell_type": "code",
   "execution_count": 58,
   "metadata": {},
   "outputs": [],
   "source": [
    "reviews['key'] = reviews['name'] + reviews['listed_in(type)'] + reviews['listed_in(city)']\n",
    "\n",
    "reviews2 = reviews.merge(cuisines[['key','cuisine_score']], how = 'left', on = 'key')"
   ]
  },
  {
   "cell_type": "markdown",
   "metadata": {},
   "source": [
    "### Budget\n",
    "\n",
    "1. If +- 100 then 1\n",
    "2. If diff >100 & < 200 then 0.75\n",
    "3. if diff < 500 and > 200 0.5\n",
    "4. else 0"
   ]
  },
  {
   "cell_type": "code",
   "execution_count": 59,
   "metadata": {},
   "outputs": [],
   "source": [
    "rev_w_approx_cost_people = reviews[~reviews['approx_cost(for two people)'].isna()][['key','approx_cost(for two people)']]\n",
    "rev_w_approx_cost_people['approx_cost(for two people)'] = rev_w_approx_cost_people['approx_cost(for two people)'].apply(lambda x: x.replace(\",\",\"\"))\n",
    "\n",
    "rev_w_approx_cost_people['approx_cost(for two people)'] = pd.DataFrame([int(i) for i in rev_w_approx_cost_people['approx_cost(for two people)']])"
   ]
  },
  {
   "cell_type": "code",
   "execution_count": 60,
   "metadata": {},
   "outputs": [],
   "source": [
    "rev_w_approx_cost_people['cost_per_person'] = rev_w_approx_cost_people['approx_cost(for two people)'] /2"
   ]
  },
  {
   "cell_type": "code",
   "execution_count": 61,
   "metadata": {
    "scrolled": true
   },
   "outputs": [],
   "source": [
    "rev_w_approx_cost_people['budget_score'] = 0\n",
    "rev_w_approx_cost_people.loc[(rev_w_approx_cost_people['cost_per_person'] < budget + 500) & (rev_w_approx_cost_people['cost_per_person'] > budget - 500), 'budget_score'] = 0.5\n",
    "rev_w_approx_cost_people.loc[(rev_w_approx_cost_people['cost_per_person'] < budget + 200) & (rev_w_approx_cost_people['cost_per_person'] > budget - 200), 'budget_score'] = 0.75\n",
    "rev_w_approx_cost_people.loc[(rev_w_approx_cost_people['cost_per_person'] < budget + 100) & (rev_w_approx_cost_people['cost_per_person'] > budget - 100), 'budget_score'] = 1"
   ]
  },
  {
   "cell_type": "code",
   "execution_count": 62,
   "metadata": {},
   "outputs": [],
   "source": [
    "reviews2 = reviews2.merge(rev_w_approx_cost_people[['key','budget_score']], how = 'left', on = 'key')"
   ]
  },
  {
   "cell_type": "markdown",
   "metadata": {},
   "source": [
    "## Final Score\n",
    "\n"
   ]
  },
  {
   "cell_type": "code",
   "execution_count": 63,
   "metadata": {},
   "outputs": [],
   "source": [
    "reviews2['final_score'] = ((reviews2['location_score'] * 2) + (reviews2['cuisine_score'] * 2) + (reviews2['budget_score'] * 1)) / 5\n",
    "# reviews2['final_score'] =                                                                                                        \n",
    "                                                                                                       "
   ]
  },
  {
   "cell_type": "code",
   "execution_count": 64,
   "metadata": {},
   "outputs": [],
   "source": [
    "Final_recommednations = reviews2.sort_values(by = 'final_score', ascending = False)[['name','final_score']].head(3).reset_index()\n"
   ]
  },
  {
   "cell_type": "code",
   "execution_count": 65,
   "metadata": {},
   "outputs": [
    {
     "data": {
      "text/plain": [
       "'Fujian Express'"
      ]
     },
     "execution_count": 65,
     "metadata": {},
     "output_type": "execute_result"
    }
   ],
   "source": [
    "Final_recommednations['name'][2]"
   ]
  },
  {
   "cell_type": "code",
   "execution_count": 66,
   "metadata": {},
   "outputs": [
    {
     "name": "stdout",
     "output_type": "stream",
     "text": [
      "Restaurants matching your preference:\n",
      "Top 1: M.M Restaurant (95.0%)\n",
      "Top 2: New Delicacy (95.0%)\n",
      "Top 3: Fujian Express (95.0%)\n"
     ]
    }
   ],
   "source": [
    "print(\"Restaurants matching your preference:\")\n",
    "print(\"Top 1: \" + Final_recommednations['name'][0] + \" (\" + str(Final_recommednations['final_score'][0]*100) + \"%)\")\n",
    "print(\"Top 2: \" + Final_recommednations['name'][1] + \" (\" + str(Final_recommednations['final_score'][1]*100) + \"%)\")\n",
    "print(\"Top 3: \" + Final_recommednations['name'][2] + \" (\" + str(Final_recommednations['final_score'][2]*100) + \"%)\")\n",
    "\n"
   ]
  },
  {
   "cell_type": "code",
   "execution_count": null,
   "metadata": {},
   "outputs": [],
   "source": []
  }
 ],
 "metadata": {
  "kernelspec": {
   "display_name": "Python 3",
   "language": "python",
   "name": "python3"
  },
  "language_info": {
   "codemirror_mode": {
    "name": "ipython",
    "version": 2
   },
   "file_extension": ".py",
   "mimetype": "text/x-python",
   "name": "python",
   "nbconvert_exporter": "python",
   "pygments_lexer": "ipython2",
   "version": "2.7.14"
  }
 },
 "nbformat": 4,
 "nbformat_minor": 2
}
